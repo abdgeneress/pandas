{
 "cells": [
  {
   "cell_type": "code",
   "execution_count": 3,
   "metadata": {},
   "outputs": [],
   "source": [
    "import pandas as pd\n",
    "import numpy as np"
   ]
  },
  {
   "cell_type": "code",
   "execution_count": 2,
   "metadata": {},
   "outputs": [],
   "source": [
    "#ser = pd.Series(data=None,index=None, dtype=None,name=None,copy=False,fastpath=False,)\n",
    "#dat = pd.DataFrame(data=None, index=None, columns=None, dtype=None, copy=False)\n",
    "#pan = pd.Panel(data=None,items=None,major_axis=None,minor_axis=None,copy=False,dtype=None,)"
   ]
  },
  {
   "cell_type": "code",
   "execution_count": 8,
   "metadata": {},
   "outputs": [
    {
     "name": "stdout",
     "output_type": "stream",
     "text": [
      "1    1\n",
      "2    2\n",
      "3    3\n",
      "4    4\n",
      "dtype: int32 a    0\n",
      "b    1\n",
      "c    2\n",
      "d    3\n",
      "dtype: int64 0    5\n",
      "1    5\n",
      "2    5\n",
      "3    5\n",
      "5    5\n",
      "dtype: int64\n"
     ]
    }
   ],
   "source": [
    "#series\n",
    "arr = np.array([1,2,3,4])\n",
    "arr1 = {'a':0, 'b':1, 'c':2, 'd':3}\n",
    "ser = pd.Series(arr, index= [1,2,3,4])\n",
    "ser1 = pd.Series(arr1)# dictionary\n",
    "ser2 = pd.Series(5, index=[0,1,2,3,5])#scalar\n",
    "print(ser, ser1, ser2)"
   ]
  },
  {
   "cell_type": "code",
   "execution_count": 12,
   "metadata": {},
   "outputs": [
    {
     "name": "stdout",
     "output_type": "stream",
     "text": [
      "   0\n",
      "0  1\n",
      "1  2\n",
      "2  3\n",
      "3  4 >>>>>    a  b  c  d\n",
      "0  0  1  2  3\n",
      "1  0  1  2  3\n",
      "2  0  1  2  3\n",
      "3  0  1  2  3 >>>>>>>>    a  b\n",
      "0  1  4\n",
      "1  2  5\n",
      "2  3  6\n"
     ]
    }
   ],
   "source": [
    "# dataframe\n",
    "\n",
    "df = pd.DataFrame(arr)\n",
    "df1 = pd.DataFrame(arr1, index=[0,1,2,3])\n",
    "df2 = pd.DataFrame({'a':pd.Series([1,2,3]), 'b': pd.Series([4,5,6])})\n",
    "\n",
    "print(df,\">>>>>\", df1,\">>>>>>>>\",df2)"
   ]
  },
  {
   "cell_type": "code",
   "execution_count": 28,
   "metadata": {},
   "outputs": [
    {
     "name": "stdout",
     "output_type": "stream",
     "text": [
      "0    4\n",
      "1    5\n",
      "2    6\n",
      "Name: three, dtype: int64\n"
     ]
    },
    {
     "data": {
      "text/html": [
       "<div>\n",
       "<style scoped>\n",
       "    .dataframe tbody tr th:only-of-type {\n",
       "        vertical-align: middle;\n",
       "    }\n",
       "\n",
       "    .dataframe tbody tr th {\n",
       "        vertical-align: top;\n",
       "    }\n",
       "\n",
       "    .dataframe thead th {\n",
       "        text-align: right;\n",
       "    }\n",
       "</style>\n",
       "<table border=\"1\" class=\"dataframe\">\n",
       "  <thead>\n",
       "    <tr style=\"text-align: right;\">\n",
       "      <th></th>\n",
       "      <th>one</th>\n",
       "      <th>two</th>\n",
       "      <th>three</th>\n",
       "    </tr>\n",
       "  </thead>\n",
       "  <tbody>\n",
       "    <tr>\n",
       "      <th>0</th>\n",
       "      <td>1</td>\n",
       "      <td>4</td>\n",
       "      <td>4</td>\n",
       "    </tr>\n",
       "    <tr>\n",
       "      <th>1</th>\n",
       "      <td>2</td>\n",
       "      <td>5</td>\n",
       "      <td>5</td>\n",
       "    </tr>\n",
       "    <tr>\n",
       "      <th>2</th>\n",
       "      <td>3</td>\n",
       "      <td>6</td>\n",
       "      <td>6</td>\n",
       "    </tr>\n",
       "  </tbody>\n",
       "</table>\n",
       "</div>"
      ],
      "text/plain": [
       "   one  two  three\n",
       "0    1    4      4\n",
       "1    2    5      5\n",
       "2    3    6      6"
      ]
     },
     "execution_count": 28,
     "metadata": {},
     "output_type": "execute_result"
    }
   ],
   "source": [
    "# selection of column\n",
    "\n",
    "data = pd.DataFrame({'one':pd.Series([1,2,3]), 'two': pd.Series([4,5,6]), 'three': pd.Series([4,5,6])})\n",
    "print(data['three']) #column selection\n",
    "data['four'] = data['one'] + data['two'] # column addition\n",
    "del data['four'] # column deletion\n",
    "\n",
    "data"
   ]
  },
  {
   "cell_type": "code",
   "execution_count": 29,
   "metadata": {},
   "outputs": [
    {
     "data": {
      "text/plain": [
       "'df = df.drop(0 or 1 or 5)'"
      ]
     },
     "execution_count": 29,
     "metadata": {},
     "output_type": "execute_result"
    }
   ],
   "source": [
    "#row selection \\ addition\\ deletion\n",
    "\n",
    "\"\"\"selection by lable # data.loc['one']\"\"\"\n",
    "\"\"\"selection by integer # data.iloc[2]\"\"\"\n",
    "\"\"\"both int and label #data.ix['a':4] \"\"\"\n",
    "#dataframe append\n",
    "\n",
    "\"\"\"df = df.append(df1)\"\"\"\n",
    "\n",
    "#deletion of rows\n",
    "\n",
    "\"\"\"df = df.drop(0 or 1 or 5)\"\"\""
   ]
  },
  {
   "cell_type": "code",
   "execution_count": 30,
   "metadata": {},
   "outputs": [
    {
     "name": "stderr",
     "output_type": "stream",
     "text": [
      "C:\\Users\\USER\\Anaconda3\\envs\\intuitive-deep-learning\\lib\\site-packages\\IPython\\core\\interactiveshell.py:3296: FutureWarning: \n",
      "Panel is deprecated and will be removed in a future version.\n",
      "The recommended way to represent these types of 3-dimensional data are with a MultiIndex on a DataFrame, via the Panel.to_frame() method\n",
      "Alternatively, you can use the xarray package http://xarray.pydata.org/en/stable/.\n",
      "Pandas provides a `.to_xarray()` method to help automate this conversion.\n",
      "\n",
      "  exec(code_obj, self.user_global_ns, self.user_ns)\n"
     ]
    },
    {
     "data": {
      "text/plain": [
       "<class 'pandas.core.panel.Panel'>\n",
       "Dimensions: 0 (items) x 22 (major_axis) x 2 (minor_axis)\n",
       "Items axis: None\n",
       "Major_axis axis: 0 to 21\n",
       "Minor_axis axis: 0 to 1"
      ]
     },
     "execution_count": 30,
     "metadata": {},
     "output_type": "execute_result"
    }
   ],
   "source": [
    "# panel \n",
    "\n",
    "arr2 = np.random.rand(0,22,2)\n",
    "pan = pd.Panel(arr2)\n",
    "pan"
   ]
  },
  {
   "cell_type": "code",
   "execution_count": null,
   "metadata": {},
   "outputs": [],
   "source": [
    "# dataframe basic functionality\n",
    "\n",
    "df. T # transpose\n",
    "df.axes #\n",
    "df.dtypes\n",
    "df.empty\n",
    "df.ndim\n",
    "df.shape\n",
    "df.size\n",
    "df.values\n",
    "df.head()\n",
    "df.tail()\n",
    "df.isnull()\n",
    "df.notnull()\n",
    "\n",
    "#dataframe statistics operations\n",
    "\n",
    "df.sum()\n",
    "df.mean()\n",
    "df.std()\n",
    "df.median()\n",
    "df.count()\n",
    "df.mode()\n",
    "df.min()\n",
    "df.max()\n",
    "df.min()\n",
    "df.abs()\n",
    "df.prod()\n",
    "df.cumsum()\n",
    "df.cumprod()\n",
    "\n",
    "#pandas ability to read\n",
    "\n",
    "datafr = pd.read_excel()\n",
    "datafr = pd.read_csv()\n",
    "data = pd.read_clipboard()\n",
    "dat = pd.read_feather()\n",
    "dat = pd.read_fwf()\n",
    "dat = pd.read_gbq()\n",
    "dat = pd.read_hdf()\n",
    "dat = pd.read_html()\n",
    "dat = pd.read_json()\n",
    "dat = pd.read_msgpack()\n",
    "dat = pd.read_table()\n",
    "dat = pd.read_stata()\n",
    "dat = pd.read_sql_table()\n",
    "dat = pd.read_sql_query()\n",
    "dat = pd.read_sql()\n",
    "dat = pd.read_pickle()\n",
    "dat = pd.read_sas()\n",
    "dt = pd.read_parquet()"
   ]
  },
  {
   "cell_type": "code",
   "execution_count": 36,
   "metadata": {},
   "outputs": [
    {
     "name": "stdout",
     "output_type": "stream",
     "text": [
      "   HPI  Int_Rate_x  IND_GDP_x  Int_Rate_y  IND_GDP_y\n",
      "0   80           2         50           2         50\n",
      "1   90           1         45           1         45\n",
      "2   70           2         45           4         45\n",
      "      Int_Rate  IND_GDP  Low_Tier_HPI  Unemployment\n",
      "2001         2       50          50.0           1.0\n",
      "2002         1       45           NaN           NaN\n",
      "2003         2       45          45.0           3.0\n",
      "2004         3       67          67.0           5.0\n",
      "2004         3       67          34.0           6.0\n"
     ]
    }
   ],
   "source": [
    "#Merging & Joining\n",
    "\n",
    "dataf1= pd.DataFrame({ \"HPI\":[80,90,70,60],\"Int_Rate\":[2,1,2,3],\"IND_GDP\":[50,45,45,67]}, index=[2001, 2002,2003,2004])\n",
    " \n",
    "dataf2=pd.DataFrame({ \"HPI\":[80,90,70,100],\"Int_Rate\":[2,1,4,3],\"IND_GDP\":[50,45,45,67]}, index=[2005, 2006,2007,2008])\n",
    " \n",
    "merged= pd.merge(dataf1,dataf2)\n",
    "merged= pd.merge(dataf1,dataf2 , on = 'HPI')\n",
    "print(merged)\n",
    "\n",
    "# joining\n",
    "df11 = pd.DataFrame({\"Int_Rate\":[2,1,2,3], \"IND_GDP\":[50,45,45,67]}, index=[2001, 2002,2003,2004])\n",
    " \n",
    "df22 = pd.DataFrame({\"Low_Tier_HPI\":[50,45,67,34],\"Unemployment\":[1,3,5,6]}, index=[2001, 2003,2004,2004])\n",
    " \n",
    "joined= df11.join(df22)\n",
    "print(joined)"
   ]
  },
  {
   "cell_type": "code",
   "execution_count": 37,
   "metadata": {},
   "outputs": [
    {
     "name": "stdout",
     "output_type": "stream",
     "text": [
      "      HPI  Int_Rate  IND_GDP\n",
      "2001   80         2       50\n",
      "2002   90         1       45\n",
      "2003   70         2       45\n",
      "2004   60         3       67\n",
      "2005   80         2       50\n",
      "2006   90         1       45\n",
      "2007   70         2       45\n",
      "2008   60         3       67\n"
     ]
    }
   ],
   "source": [
    "# Concatenation \n",
    "\n",
    "df111 = pd.DataFrame({\"HPI\":[80,90,70,60],\"Int_Rate\":[2,1,2,3], \"IND_GDP\":[50,45,45,67]}, index=[2001, 2002,2003,2004])\n",
    " \n",
    "df222 = pd.DataFrame({\"HPI\":[80,90,70,60],\"Int_Rate\":[2,1,2,3],\"IND_GDP\":[50,45,45,67]}, index=[2005, 2006,2007,2008])\n",
    " \n",
    "concat= pd.concat([df111,df222])\n",
    " \n",
    "print(concat)"
   ]
  },
  {
   "cell_type": "code",
   "execution_count": 41,
   "metadata": {},
   "outputs": [
    {
     "name": "stdout",
     "output_type": "stream",
     "text": [
      "          Day  Bounce_Rate\n",
      "Visitors                  \n",
      "200         1           20\n",
      "100         2           45\n",
      "230         3           60\n",
      "300         4           10\n"
     ]
    }
   ],
   "source": [
    "#Change the index\n",
    "\n",
    "df1111= pd.DataFrame({\"Day\":[1,2,3,4], \"Visitors\":[200, 100,230,300], \"Bounce_Rate\":[20,45,60,10]}) \n",
    " \n",
    "df1111.set_index(\"Visitors\", inplace= True)\n",
    " \n",
    "print(df1111)"
   ]
  },
  {
   "cell_type": "code",
   "execution_count": null,
   "metadata": {},
   "outputs": [],
   "source": [
    "\"\"\"ENDDDDDDDDDDDDDDDDDDDDDDDDDDDDDDDDDDDDDDDDDDDDDDDDDDDDDD\"\"\""
   ]
  }
 ],
 "metadata": {
  "kernelspec": {
   "display_name": "Python 3",
   "language": "python",
   "name": "python3"
  },
  "language_info": {
   "codemirror_mode": {
    "name": "ipython",
    "version": 3
   },
   "file_extension": ".py",
   "mimetype": "text/x-python",
   "name": "python",
   "nbconvert_exporter": "python",
   "pygments_lexer": "ipython3",
   "version": "3.7.3"
  }
 },
 "nbformat": 4,
 "nbformat_minor": 2
}
